{
 "cells": [
  {
   "attachments": {},
   "cell_type": "markdown",
   "id": "317e9253",
   "metadata": {},
   "source": [
    "# Description\n",
    "You are to use NumPy's random module with a given seed to generate random integers, ranging from 0 to 120 ($0 \\le x < 120$), in a 1D array of size $n$. Adjust the grade records below 40 to 40 and above 100 to 100. Then, change the shape of the 1D array into an $r$ by $c$ 2D array. Last, you are to find those rows with a mean larger than the threshold $m$ and report the 2D array and the sum of those rows. You should report dimension inconsistency if the 1D array cannot be converted into an $r$ by $c$ 2D array. \n",
    "\n",
    "# Input\n",
    "A string containing the following information:\n",
    "- n (size of the 1D array)</br>\n",
    "- r (number of rows)</br>\n",
    "- c (number of columns)</br>\n",
    "- m (an integer threshold)</br>\n",
    "- seed (random seed)</br>\n",
    "\n",
    "# Output\n",
    "You should report 'Dimension is inconsistent' or \n",
    "- the 2D array\n",
    "- the sum of those rows with a mean larger than m\n"
   ]
  },
  {
   "cell_type": "markdown",
   "id": "37447eef",
   "metadata": {},
   "source": [
    "## Reading Input (given)\n",
    "The following lines of code will help you read in the input integers"
   ]
  },
  {
   "cell_type": "code",
   "execution_count": 1,
   "id": "f569bd83",
   "metadata": {},
   "outputs": [],
   "source": [
    "str_in = input()\n",
    "# str_in = '12, 3, 3, 60, 0'\n",
    "# str_in = '12, 4, 3, 60, 0'\n",
    "# str_in = '6, 2, 3, 80, 42'"
   ]
  },
  {
   "cell_type": "markdown",
   "id": "22997bcb",
   "metadata": {},
   "source": [
    "# Main Program (write your main program here and copy and paste them to online judge when you are confident.)"
   ]
  },
  {
   "cell_type": "code",
   "execution_count": 1,
   "id": "5f2dbef5",
   "metadata": {},
   "outputs": [],
   "source": [
    "import numpy as np\n",
    "# str_in = input()\n"
   ]
  },
  {
   "cell_type": "code",
   "execution_count": 27,
   "id": "3743cf1c",
   "metadata": {},
   "outputs": [],
   "source": [
    "str_in = '6, 2, 3, 80, 42'"
   ]
  },
  {
   "cell_type": "code",
   "execution_count": 2,
   "id": "dbf409d2-d1ac-421d-87b7-1c20c3c25e57",
   "metadata": {},
   "outputs": [
    {
     "name": "stdout",
     "output_type": "stream",
     "text": [
      "The adjusted 2D array\n",
      "[[ 44  47 100]\n",
      " [ 64  67  67]\n",
      " [100  40  83]\n",
      " [ 40 100  40]]\n",
      "The sum of those rows with a mean larger than 60\n",
      "[191 198 223]\n"
     ]
    }
   ],
   "source": [
    "import numpy as np\n",
    "# str_in = input()\n",
    "str_in = '12, 4, 3, 60, 0'\n",
    "class Solution:\n",
    "    def __init__(self, str_in):\n",
    "        \"\"\"\n",
    "        Initializes the Solution class by parsing the input string and setting attributes.\n",
    "\n",
    "        Parameters\n",
    "        ----------\n",
    "        str_in : str\n",
    "            A string containing the size of the 1D array, number of rows, \n",
    "            number of columns, an integer threshold, and a random seed, \n",
    "            separated by commas.\n",
    "        \"\"\"\n",
    "        self.str_in = str_in\n",
    "        self.arr = np.array([int(x) for x in str_in.split(', ')])\n",
    "        self.n = self.arr[0]  # n is size of the 1D array\n",
    "        self.r = self.arr[1]  # r is number of rows\n",
    "        self.c = self.arr[2]  # c is number of columns\n",
    "        self.m = self.arr[3]  # m is an integer threshold\n",
    "        self.seed = self.arr[4]  # seed is random seed\n",
    "\n",
    "    def __check_dimension_consistent(self):\n",
    "        \"\"\"\n",
    "        Checks if the dimensions are consistent.\n",
    "\n",
    "        Returns\n",
    "        -------\n",
    "        bool\n",
    "            True if dimensions are consistent, False otherwise.\n",
    "        \"\"\"\n",
    "        return self.r > 0 and self.c > 0 and self.r * self.c == self.n\n",
    "    \n",
    "    def generate_matrix(self):\n",
    "        \"\"\"\n",
    "        Generates a 2D array with random integers between 0 and 120, \n",
    "        then clips the values to be between 40 and 100.\n",
    "\n",
    "        Returns\n",
    "        -------\n",
    "        np.ndarray\n",
    "            The generated 2D array.\n",
    "        \"\"\"\n",
    "        np.random.seed(self.seed)\n",
    "        self.matrix = np.random.randint(0, 120, (self.r, self.c))  # Generate a 2D array with random integers between 0 and 120\n",
    "        self.matrix = np.clip(self.matrix, 40, 100)  # Clip the values to be between 40 and 100\n",
    "        self.matrix = self.matrix.reshape(self.r, self.c)  # Reshape the 2D array\n",
    "    \n",
    "    def __print_matrix_sol(self):\n",
    "        \"\"\"\n",
    "        Generates and prints the adjusted 2D matrix.\n",
    "        \"\"\"\n",
    "        self.generate_matrix()\n",
    "        print('The adjusted 2D array')\n",
    "        print(self.matrix)\n",
    "\n",
    "    def __print_sum_of_rows_with_mean_larger_than_threshold(self):\n",
    "        \"\"\"\n",
    "        Calculates and prints the sum of those rows with a mean larger than the threshold.\n",
    "        \"\"\"\n",
    "        row_means = self.matrix.mean(axis=1)  # Calculate the mean of each row\n",
    "        rows_mean_with_over_threshold = self.matrix[row_means > self.m]  # Select rows with mean larger than the threshold\n",
    "        row_sums = np.sum(rows_mean_with_over_threshold, axis=1)  # Sum of those rows with a mean larger than the threshold\n",
    "        print(f'The sum of those rows with a mean larger than {self.m}')\n",
    "        print(row_sums)\n",
    "\n",
    "    def print_sol(self):\n",
    "        \"\"\"\n",
    "        Prints the solution, including the adjusted 2D matrix and the sum of rows with a mean larger than the threshold.\n",
    "        \"\"\"\n",
    "        if self.__check_dimension_consistent():\n",
    "            self.__print_matrix_sol()\n",
    "            self.__print_sum_of_rows_with_mean_larger_than_threshold()\n",
    "        else:\n",
    "            print('Dimension is inconsistent')\n",
    "\n",
    "sol = Solution(str_in)\n",
    "sol.print_sol()"
   ]
  },
  {
   "cell_type": "code",
   "execution_count": 15,
   "id": "e492a51f",
   "metadata": {},
   "outputs": [
    {
     "data": {
      "text/plain": [
       "array([63.66666667, 66.        , 74.33333333, 60.        ])"
      ]
     },
     "execution_count": 15,
     "metadata": {},
     "output_type": "execute_result"
    }
   ],
   "source": [
    "row_means = matrix.mean(axis=1)\n",
    "row_means"
   ]
  },
  {
   "cell_type": "code",
   "execution_count": 19,
   "id": "f98b1c0c",
   "metadata": {},
   "outputs": [
    {
     "data": {
      "text/plain": [
       "array([False, False,  True, False])"
      ]
     },
     "execution_count": 19,
     "metadata": {},
     "output_type": "execute_result"
    }
   ],
   "source": [
    "row_means > 70"
   ]
  },
  {
   "cell_type": "code",
   "execution_count": 20,
   "id": "855c22f6",
   "metadata": {},
   "outputs": [
    {
     "data": {
      "text/plain": [
       "array([[100,  40,  83]])"
      ]
     },
     "execution_count": 20,
     "metadata": {},
     "output_type": "execute_result"
    }
   ],
   "source": [
    "rows_mean_with_over_threshold = matrix[row_means > 70]\n",
    "rows_mean_with_over_threshold"
   ]
  }
 ],
 "metadata": {
  "kernelspec": {
   "display_name": "Python 3 (ipykernel)",
   "language": "python",
   "name": "python3"
  },
  "language_info": {
   "codemirror_mode": {
    "name": "ipython",
    "version": 3
   },
   "file_extension": ".py",
   "mimetype": "text/x-python",
   "name": "python",
   "nbconvert_exporter": "python",
   "pygments_lexer": "ipython3",
   "version": "3.10.13"
  }
 },
 "nbformat": 4,
 "nbformat_minor": 5
}
