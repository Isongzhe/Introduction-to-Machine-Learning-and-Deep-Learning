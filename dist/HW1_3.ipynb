{
 "cells": [
  {
   "cell_type": "markdown",
   "id": "6053bfff",
   "metadata": {},
   "source": [
    "# Description\n",
    "\n",
    "Create a n-by-m matrix containing the even integers from 2 to (n x m)x2. Create a second m-by-2 matrix containing the random integers of 4 or 9 with a given random seed s. Print these two matrices and their matrix multiplication. (hint: for the second matrix, please generate a matrix with a random number of 0 or 1 and use a mask to change them to 4 or 9)\n",
    "\n",
    "# Input \n",
    "\n",
    "n,m,s\n",
    "\n",
    "# Output\n",
    "\n",
    "- A n-by-m matrix containing the even integers from 2 through (n x m)x2\n",
    "- A m-by-2 matrix containing the random integers of 4 or 9 with a given random seed s\n",
    "- A resulting n-by-2 matrix"
   ]
  },
  {
   "cell_type": "markdown",
   "id": "08260bda",
   "metadata": {},
   "source": [
    "## Reading Input (given)\n",
    "The following lines of code will help you read in the input integer"
   ]
  },
  {
   "cell_type": "code",
   "execution_count": 1,
   "id": "c60b20de",
   "metadata": {},
   "outputs": [],
   "source": [
    "# str_in = input()"
   ]
  },
  {
   "cell_type": "code",
   "execution_count": 2,
   "id": "091d48b4",
   "metadata": {},
   "outputs": [],
   "source": [
    "str_in = '3,5,12'"
   ]
  },
  {
   "cell_type": "code",
   "execution_count": 9,
   "id": "1e0b0fb7",
   "metadata": {},
   "outputs": [],
   "source": [
    "import numpy as np"
   ]
  },
  {
   "cell_type": "code",
   "execution_count": 7,
   "id": "0b3e5962",
   "metadata": {},
   "outputs": [
    {
     "name": "stdout",
     "output_type": "stream",
     "text": [
      "The first matrix is:\n",
      "[[ 2  4  6  8 10]\n",
      " [12 14 16 18 20]\n",
      " [22 24 26 28 30]]\n",
      "The second matrix is:\n",
      "[[9 9]\n",
      " [4 9]\n",
      " [9 4]\n",
      " [9 9]\n",
      " [4 4]]\n",
      "The third matrix is:\n",
      "[[200 190]\n",
      " [550 540]\n",
      " [900 890]]\n"
     ]
    }
   ],
   "source": [
    "import numpy as np\n",
    "str_in = '3,5,12'\n",
    "\n",
    "class Solution:\n",
    "    def __init__(self, str_in):\n",
    "        self.str_in = str_in\n",
    "        arr = np.array([int(x) for x in str_in.split(',')])\n",
    "        s = arr[2]\n",
    "        n = arr[0]\n",
    "        m = arr[1]\n",
    "        self.s = s\n",
    "        self.n = n\n",
    "        self.m = m\n",
    "\n",
    "    def __generate_even_matrix(self):\n",
    "        even_numbers = np.arange(2, 2 * (self.n*self.m) + 1, 2)\n",
    "        even_matrix = even_numbers.reshape(self.n, self.m)\n",
    "        return even_matrix\n",
    "    \n",
    "    def __print_first_matrix(self):\n",
    "        even_matrix = self.__generate_even_matrix()\n",
    "        print('The first matrix is:')\n",
    "        print(even_matrix)\n",
    "\n",
    "    def __generate_second_matrix(self):\n",
    "        np.random.seed(self.s)\n",
    "        second_matrix = np.random.randint(0, 2, size=(self.m, 2))\n",
    "        bool_second_matrix = np.where(second_matrix == 0, 4, 9)\n",
    "        return bool_second_matrix\n",
    "\n",
    "    def __print_second_matrix(self): \n",
    "        bool_second_matrix = self.__generate_second_matrix()\n",
    "        print('The second matrix is:')\n",
    "        print(bool_second_matrix)\n",
    "\n",
    "    def __generate_third_matrix(self):\n",
    "        even_matrix = self.__generate_even_matrix()\n",
    "        bool_second_matrix = self.__generate_second_matrix()\n",
    "        # third_matrix = even_matrix@bool_second_matrix\n",
    "        third_matrix = np.dot(even_matrix, bool_second_matrix)\n",
    "        return third_matrix\n",
    "    \n",
    "    def __print_third_matrix(self):\n",
    "        third_matrix = self.__generate_third_matrix()\n",
    "        print('The multiplication results of the first and second matrices are:')\n",
    "        print(third_matrix)\n",
    "    \n",
    "    def print_all_solution(self):\n",
    "        self.__print_first_matrix()\n",
    "        self.__print_second_matrix()\n",
    "        self.__print_third_matrix()\n",
    "\n",
    "sol = Solution(str_in)\n",
    "sol.print_all_solution()\n",
    "\n"
   ]
  },
  {
   "cell_type": "code",
   "execution_count": 8,
   "id": "11b826b9",
   "metadata": {},
   "outputs": [
    {
     "data": {
      "text/plain": [
       "array([[ 2,  4,  6,  8, 10],\n",
       "       [12, 14, 16, 18, 20],\n",
       "       [22, 24, 26, 28, 30]])"
      ]
     },
     "execution_count": 8,
     "metadata": {},
     "output_type": "execute_result"
    }
   ],
   "source": [
    "even_numbers = np.arange(2, 2 * (n*m) + 1, 2)\n",
    "even_matrix = even_numbers.reshape(n, m)\n",
    "even_matrix\n"
   ]
  },
  {
   "cell_type": "markdown",
   "id": "54f1ca24",
   "metadata": {},
   "source": [
    "# Main Program (write your main program here and copy and paste them to online judge when you are confident.)"
   ]
  }
 ],
 "metadata": {
  "kernelspec": {
   "display_name": "Python 3 (ipykernel)",
   "language": "python",
   "name": "python3"
  },
  "language_info": {
   "codemirror_mode": {
    "name": "ipython",
    "version": 3
   },
   "file_extension": ".py",
   "mimetype": "text/x-python",
   "name": "python",
   "nbconvert_exporter": "python",
   "pygments_lexer": "ipython3",
   "version": "3.10.13"
  }
 },
 "nbformat": 4,
 "nbformat_minor": 5
}
