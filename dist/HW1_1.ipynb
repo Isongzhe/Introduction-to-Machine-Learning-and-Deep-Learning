{
 "cells": [
  {
   "cell_type": "markdown",
   "id": "f5b38b5a",
   "metadata": {},
   "source": [
    "# Description\n",
    "\n",
    "Consider the grade records containing five exams for class 01 and class 02, where class 01 has n students and class 02 has m students. Prompt the online judge for a string containing the random seed, the number of students in class01 (n), and the number of students in class02 (m). Create an array of n by 5 for class 01 and an array of m by 5 for class 02 with randomly generated grades between 40 – 100 (100 included). Output the mean and standard deviation with two decimal places for class01 and class02. Output the mean and standard deviation with two decimal places of each exam for all students.\n",
    "\n",
    "# Input\n",
    "\n",
    "A string: ‘s, n, m’ where s is the random seed, n is the number of students in class01, and m is the number of students in class02.\n",
    "\n",
    "# Output\n",
    "\n",
    "- A n by 5 array (grade records for class01)\n",
    "- A m by 5 array (grade records for class02)\n",
    "- A (n+m) by 5 array (grade records for both classes)\n",
    "- The mean and standard deviation with two decimal places for class01 and class02\n",
    "- The mean and standard deviation of each exam with two decimal places for all students."
   ]
  },
  {
   "cell_type": "markdown",
   "id": "3f02d0c4",
   "metadata": {},
   "source": [
    "## Reading Input (given)\n",
    "The following lines of code will help you read in the input string"
   ]
  },
  {
   "cell_type": "code",
   "execution_count": 83,
   "id": "8d1f610f",
   "metadata": {},
   "outputs": [],
   "source": [
    "str_in = input()"
   ]
  },
  {
   "cell_type": "code",
   "execution_count": 84,
   "id": "b9eddd63",
   "metadata": {},
   "outputs": [
    {
     "data": {
      "text/plain": [
       "str"
      ]
     },
     "execution_count": 84,
     "metadata": {},
     "output_type": "execute_result"
    }
   ],
   "source": [
    "type(str_in)"
   ]
  },
  {
   "cell_type": "code",
   "execution_count": null,
   "id": "82435186",
   "metadata": {},
   "outputs": [],
   "source": [
    "#A sample input string for testing\n",
    "str_in = '42, 3, 2'\n",
    "# str_in = '6, 4, 3'"
   ]
  },
  {
   "cell_type": "markdown",
   "id": "067b31da",
   "metadata": {},
   "source": [
    "# Main Program (write your main program here and copy and paste them to online judge when you are confident.)"
   ]
  },
  {
   "cell_type": "code",
   "execution_count": null,
   "id": "ebd2090e",
   "metadata": {},
   "outputs": [],
   "source": [
    "import numpy as np\n",
    "arr = np.array([str(x) for x in str_in.split(',')])"
   ]
  },
  {
   "cell_type": "code",
   "execution_count": null,
   "id": "ad2b5d63",
   "metadata": {},
   "outputs": [],
   "source": [
    "m = arr[2].astype(int)\n",
    "n = arr[1].astype(int)\n",
    "s = arr[0].astype(int)"
   ]
  },
  {
   "cell_type": "code",
   "execution_count": null,
   "id": "1e0c0654",
   "metadata": {},
   "outputs": [],
   "source": [
    "import json\n",
    "\n",
    "input_data = {\n",
    "    'random seed': 42,\n",
    "    'number of students in class01': 3,\n",
    "    'number of students in class02': 2\n",
    "}\n",
    "\n",
    "print(json.dumps(input_data, indent=4))"
   ]
  },
  {
   "cell_type": "code",
   "execution_count": null,
   "id": "7165af2e",
   "metadata": {},
   "outputs": [],
   "source": [
    "np.random.seed(s)\n",
    "class01_matrix = np.random.randint(40, 101, (n, 5))\n",
    "class01_matrix"
   ]
  },
  {
   "cell_type": "code",
   "execution_count": null,
   "id": "ae728b00",
   "metadata": {},
   "outputs": [],
   "source": [
    "np.random.seed(s)\n",
    "class01_matrix = np.random.randint(40, 101, (n, 5))\n",
    "class01_matrix"
   ]
  },
  {
   "cell_type": "code",
   "execution_count": 1,
   "id": "51db36ae",
   "metadata": {},
   "outputs": [
    {
     "name": "stdout",
     "output_type": "stream",
     "text": [
      "Grades for class01 are: [[50 49 75 60 82]\n",
      " [85 55 82 56 65]\n",
      " [41 51 53 97 66]\n",
      " [87 73 84 86 44]]\n",
      "Grades for class02 are: [[73 48 42 52 60]\n",
      " [67 71 42 45 66]\n",
      " [55 65 62 90 83]]\n",
      "Grades for both classes are: [[50 49 75 60 82]\n",
      " [85 55 82 56 65]\n",
      " [41 51 53 97 66]\n",
      " [87 73 84 86 44]\n",
      " [73 48 42 52 60]\n",
      " [67 71 42 45 66]\n",
      " [55 65 62 90 83]]\n",
      "The mean and std for class01 are: 67.05, 16.45\n",
      "The mean and std for class02 are: 61.40, 13.93\n",
      "The mean and std for exam01 are: 65.43, 16.26\n",
      "The mean and std for exam02 are: 58.86, 9.83\n",
      "The mean and std for exam03 are: 62.86, 16.60\n",
      "The mean and std for exam04 are: 69.43, 19.37\n",
      "The mean and std for exam05 are: 66.57, 12.33\n"
     ]
    }
   ],
   "source": [
    "import numpy as np\n",
    "\n",
    "class Solution:\n",
    "    def __init__(self, str_in):\n",
    "        self.str_in = str_in\n",
    "        self.arr = np.array([int(x) for x in str_in.split(', ')])\n",
    "        self.s = self.arr[0]\n",
    "        self.n = self.arr[1]\n",
    "        self.m = self.arr[2]\n",
    "    \n",
    "    def build_random_num_matrix(self):\n",
    "        np.random.seed(self.s)\n",
    "        self.class01_matrix = np.random.randint(40, 101, (self.n, 5))\n",
    "        self.class02_matrix = np.random.randint(40, 101, (self.m, 5))\n",
    "        return self.class01_matrix, self.class02_matrix\n",
    "    \n",
    "    def __add_both_class_matrix(self):\n",
    "        self.both_class_matrix = np.vstack((self.class01_matrix, self.class02_matrix))\n",
    "        return self.both_class_matrix\n",
    "    \n",
    "    def __get_exam_mean_std(self, exam_num):\n",
    "        exam_idx = exam_num - 1\n",
    "        return np.mean(self.both_class_matrix[:,exam_idx]), np.std(self.both_class_matrix[:,exam_idx])\n",
    "    \n",
    "    def print_all_matrix(self):\n",
    "        self.both_class_matrix = self.__add_both_class_matrix()\n",
    "        print('Grades for class01 are:', self.class01_matrix)\n",
    "        print('Grades for class02 are:', self.class02_matrix)\n",
    "        print('Grades for both classes are:', self.both_class_matrix)\n",
    "\n",
    "        # self.both_class_matrix = self.__add_both_class_matrix()\n",
    "        \n",
    "        # def format_matrix(matrix):\n",
    "        #     return \"[[\" + \"]\\n [\".join(\" \".join(f\"{x:3d}\" for x in row) for row in matrix) + \"]]\"\n",
    "        \n",
    "        # print('Grades for class01 are:')\n",
    "        # print(format_matrix(self.class01_matrix))\n",
    "        \n",
    "        # print('Grades for class02 are:')\n",
    "        # print(format_matrix(self.class02_matrix))\n",
    "        \n",
    "        # print('Grades for both classes are:')\n",
    "        # print(format_matrix(self.both_class_matrix))\n",
    "\n",
    "\n",
    "    def print_all_result_mean_std(self):\n",
    "        \n",
    "        print('The mean and std for class01 are:', f\"{np.mean(self.class01_matrix):.2f},\",f\"{np.std(self.class01_matrix):.2f}\")\n",
    "        print('The mean and std for class02 are:', f\"{np.mean(self.class02_matrix):.2f},\",f\"{np.std(self.class02_matrix):.2f}\")\n",
    "        for i in range(5):\n",
    "            exam_num = i + 1\n",
    "            mean, std = self.__get_exam_mean_std(exam_num)\n",
    "            print(f'The mean and std for exam0{exam_num} are:', f\"{mean:.2f},\", f\"{std:.2f}\")\n",
    "\n",
    "str_in = '6, 4, 3'\n",
    "sol = Solution(str_in)\n",
    "sol.build_random_num_matrix()\n",
    "sol.print_all_matrix()\n",
    "\n",
    "sol.print_all_result_mean_std()\n"
   ]
  },
  {
   "cell_type": "markdown",
   "id": "1eb40fd6",
   "metadata": {},
   "source": [
    "Sample Input 1"
   ]
  },
  {
   "cell_type": "code",
   "execution_count": null,
   "id": "0c65311e",
   "metadata": {},
   "outputs": [],
   "source": [
    "42, 3, 2"
   ]
  },
  {
   "cell_type": "markdown",
   "id": "dd34ea2e",
   "metadata": {},
   "source": [
    "Sample Output 1"
   ]
  },
  {
   "cell_type": "code",
   "execution_count": null,
   "id": "d8660ec5",
   "metadata": {},
   "outputs": [],
   "source": [
    "# Grades for class01 are:\n",
    "# [[ 78  91  68  54  82]\n",
    "#  [ 47 100  60  78  97]\n",
    "#  [ 58  62  50  50  63]]\n",
    "# Grades for class02 are:\n",
    "# [[92 75 79 63 42]\n",
    "#  [61 92 41 63 83]]\n",
    "# Grades for both classes are:\n",
    "# [[ 78  91  68  54  82]\n",
    "#  [ 47 100  60  78  97]\n",
    "#  [ 58  62  50  50  63]\n",
    "#  [ 92  75  79  63  42]\n",
    "#  [ 61  92  41  63  83]]\n",
    "# The mean and std for class01 are: 69.20, 16.89\n",
    "# The mean and std for class02 are: 69.10, 17.43\n",
    "# The mean and std for exam01 are: 67.20, 15.89\n",
    "# The mean and std for exam02 are: 84.00, 13.67\n",
    "# The mean and std for exam03 are: 59.60, 13.31\n",
    "# The mean and std for exam04 are: 61.60, 9.65\n",
    "# The mean and std for exam05 are: 73.40, 19.06"
   ]
  },
  {
   "cell_type": "markdown",
   "id": "cc06d0aa",
   "metadata": {},
   "source": [
    "Sample Input 2"
   ]
  },
  {
   "cell_type": "markdown",
   "id": "202eb81b",
   "metadata": {},
   "source": [
    "6, 4, 3"
   ]
  },
  {
   "cell_type": "markdown",
   "id": "741d91b7",
   "metadata": {},
   "source": [
    "Sample Output 2"
   ]
  },
  {
   "cell_type": "code",
   "execution_count": null,
   "id": "542c4708",
   "metadata": {},
   "outputs": [],
   "source": [
    "# Grades for class01 are:\n",
    "# [[50 49 75 60 82]\n",
    "#  [85 55 82 56 65]\n",
    "#  [41 51 53 97 66]\n",
    "#  [87 73 84 86 44]]\n",
    "# Grades for class02 are:\n",
    "# [[73 48 42 52 60]\n",
    "#  [67 71 42 45 66]\n",
    "#  [55 65 62 90 83]]\n",
    "# Grades for both classes are:\n",
    "# [[50 49 75 60 82]\n",
    "#  [85 55 82 56 65]\n",
    "#  [41 51 53 97 66]\n",
    "#  [87 73 84 86 44]\n",
    "#  [73 48 42 52 60]\n",
    "#  [67 71 42 45 66]\n",
    "#  [55 65 62 90 83]]\n",
    "# The mean and std for class01 are: 67.05, 16.45\n",
    "# The mean and std for class02 are: 61.40, 13.93\n",
    "# The mean and std for exam01 are: 65.43, 16.26\n",
    "# The mean and std for exam02 are: 58.86, 9.83\n",
    "# The mean and std for exam03 are: 62.86, 16.60\n",
    "# The mean and std for exam04 are: 69.43, 19.37\n",
    "# The mean and std for exam05 are: 66.57, 12.33"
   ]
  },
  {
   "cell_type": "markdown",
   "id": "d2070e95",
   "metadata": {},
   "source": [
    "Submit to OJ code: Partial Accepte"
   ]
  },
  {
   "cell_type": "code",
   "execution_count": 3,
   "id": "23b0d90a-330d-4b81-9525-974ee023fb54",
   "metadata": {},
   "outputs": [
    {
     "name": "stdout",
     "output_type": "stream",
     "text": [
      "Grades for class01 are:\n",
      "[[50 49 75 60 82]\n",
      " [85 55 82 56 65]\n",
      " [41 51 53 97 66]\n",
      " [87 73 84 86 44]]\n",
      "Grades for class02 are:\n",
      "[[73 48 42 52 60]\n",
      " [67 71 42 45 66]\n",
      " [55 65 62 90 83]]\n",
      "Grades for both classes are:\n",
      "[[50 49 75 60 82]\n",
      " [85 55 82 56 65]\n",
      " [41 51 53 97 66]\n",
      " [87 73 84 86 44]\n",
      " [73 48 42 52 60]\n",
      " [67 71 42 45 66]\n",
      " [55 65 62 90 83]]\n",
      "The mean and std for class01 are: 67.05, 16.45\n",
      "The mean and std for class02 are: 61.40, 13.93\n",
      "The mean and std for exam01 are: 65.43, 16.26\n",
      "The mean and std for exam02 are: 58.86, 9.83\n",
      "The mean and std for exam03 are: 62.86, 16.60\n",
      "The mean and std for exam04 are: 69.43, 19.37\n",
      "The mean and std for exam05 are: 66.57, 12.33\n"
     ]
    }
   ],
   "source": [
    "import numpy as np\n",
    "\n",
    "str_in = input()\n",
    "class Solution:\n",
    "    def __init__(self, str_in):\n",
    "        self.str_in = str_in\n",
    "        self.arr = np.array([int(x) for x in str_in.split(', ')])\n",
    "        self.s = self.arr[0]\n",
    "        self.n = self.arr[1]\n",
    "        self.m = self.arr[2]\n",
    "    \n",
    "    def build_random_num_matrix(self):\n",
    "        np.random.seed(self.s)\n",
    "        self.class01_matrix = np.random.randint(40, 101, (self.n, 5))\n",
    "        self.class02_matrix = np.random.randint(40, 101, (self.m, 5))\n",
    "        return self.class01_matrix, self.class02_matrix\n",
    "    \n",
    "    def __add_both_class_matrix(self):\n",
    "        self.both_class_matrix = np.vstack((self.class01_matrix, self.class02_matrix))\n",
    "        return self.both_class_matrix\n",
    "    \n",
    "    def __get_exam_mean_std(self, exam_num):\n",
    "        exam_idx = exam_num - 1\n",
    "        return np.mean(self.both_class_matrix[:,exam_idx]), np.std(self.both_class_matrix[:,exam_idx])\n",
    "    \n",
    "    def print_all_matrix(self):\n",
    "        self.both_class_matrix = self.__add_both_class_matrix()\n",
    "        print('Grades for class01 are:')\n",
    "        print(self.class01_matrix)\n",
    "        print('Grades for class02 are:')\n",
    "        print(self.class02_matrix)\n",
    "        print('Grades for both classes are:')\n",
    "        print(self.both_class_matrix)\n",
    "\n",
    "    def print_all_result_mean_std(self):\n",
    "        \n",
    "        print('The mean and std for class01 are:', f\"{np.mean(self.class01_matrix):.2f},\",f\"{np.std(self.class01_matrix):.2f}\")\n",
    "        print('The mean and std for class02 are:', f\"{np.mean(self.class02_matrix):.2f},\",f\"{np.std(self.class02_matrix):.2f}\")\n",
    "        for i in range(5):\n",
    "            exam_num = i + 1\n",
    "            mean, std = self.__get_exam_mean_std(exam_num)\n",
    "            print(f'The mean and std for exam0{exam_num} are:', f\"{mean:.2f},\", f\"{std:.2f}\")\n",
    "\n",
    "sol = Solution(str_in)\n",
    "sol.build_random_num_matrix()\n",
    "sol.print_all_matrix()\n",
    "sol.print_all_result_mean_std()\n"
   ]
  }
 ],
 "metadata": {
  "kernelspec": {
   "display_name": "Python 3 (ipykernel)",
   "language": "python",
   "name": "python3"
  },
  "language_info": {
   "codemirror_mode": {
    "name": "ipython",
    "version": 3
   },
   "file_extension": ".py",
   "mimetype": "text/x-python",
   "name": "python",
   "nbconvert_exporter": "python",
   "pygments_lexer": "ipython3",
   "version": "3.10.13"
  }
 },
 "nbformat": 4,
 "nbformat_minor": 5
}
