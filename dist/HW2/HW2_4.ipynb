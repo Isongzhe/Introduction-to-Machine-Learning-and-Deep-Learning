{
 "cells": [
  {
   "cell_type": "markdown",
   "metadata": {},
   "source": [
    "匯入套件"
   ]
  },
  {
   "cell_type": "code",
   "execution_count": 18,
   "metadata": {},
   "outputs": [],
   "source": [
    "import numpy as np\n",
    "from scipy import stats\n",
    "import matplotlib.pyplot as plt\n",
    "from typing import List, Tuple"
   ]
  },
  {
   "cell_type": "markdown",
   "metadata": {},
   "source": [
    "定義Training的DataSet的Target function"
   ]
  },
  {
   "cell_type": "code",
   "execution_count": 19,
   "metadata": {},
   "outputs": [],
   "source": [
    "def gen_sindata(n:int=2)-> Tuple[np.ndarray, np.ndarray]:\n",
    "    '''\n",
    "    generate n samples of training data (X, Y) \n",
    "    where X is uniform random variable in [-1, 1] and Y = sin(pi * X)\n",
    "\n",
    "    Parameters:\n",
    "        n:int => number of samples\n",
    "    Returns:\n",
    "        X:np.array => n samples of X\n",
    "        Y:np.array => n samples of Y : sin(pi * X)\n",
    "    '''\n",
    "    x = stats.uniform(-1, 2)  # define random variable (均勻分布)\n",
    "    v = x.rvs((n, 1))  # 從 uniform random variable in [-1, 1]中取n sample的 X\n",
    "    y = np.sin(np.pi * v)  # Y = sin(pi * X)\n",
    "    return (v, y)"
   ]
  },
  {
   "cell_type": "markdown",
   "metadata": {},
   "source": [
    "定義:\n",
    "The learning algorithm returns the line at the midpoint \n",
    "$\n",
    "b = \\frac{\\sin(\\pi x_1) + \\sin(\\pi x_2)}{2}\n",
    "$\n",
    "as $g^{(D)}$, where the hypothesis $h(x) = b$.\n"
   ]
  },
  {
   "cell_type": "code",
   "execution_count": 20,
   "metadata": {},
   "outputs": [],
   "source": [
    "def gen_horizontal_line(y_train:np.ndarray)-> np.ndarray:\n",
    "    '''\n",
    "    generate a horizontal line\n",
    "    \n",
    "    Parameters:\n",
    "        y_train:np.ndarray => n samples of Y : sin(pi * X)\n",
    "    Returns:\n",
    "        y_pred:np.ndarray => n samples of horizontal line\n",
    "\n",
    "    '''\n",
    "    middle_point_y = np.mean(y_train)  # Calculate the mean of y as hypothesis horizontal function \n",
    "    y_pred = np.full_like(y_train, middle_point_y)  # Predict y_pred from the horizontal line\n",
    "    return y_pred"
   ]
  },
  {
   "cell_type": "code",
   "execution_count": 25,
   "metadata": {},
   "outputs": [
    {
     "name": "stdout",
     "output_type": "stream",
     "text": [
      "預測的期望值 a_bar:0.0020, 預測的方差 a_var:0.2472\n",
      "bias = -0.0014, var = 0.247, error = 0.7480\n"
     ]
    }
   ],
   "source": [
    "# Calculate bias and variance using the horizontal line hypothesis\n",
    "cnt = 10000  # train-iteration\n",
    "all_a_out = []  # list to store all output of hypothesis help to cal expected value and variance\n",
    "\n",
    "# Training cnt times \n",
    "for i in range(cnt):\n",
    "    # Generate training data (X, Y)\n",
    "    X, Y = gen_sindata(2)\n",
    "    # Hypothesis: horizontal line at midpoint (mean of y) to get Y_pred\n",
    "    a_out = gen_horizontal_line(Y)\n",
    "    # Store the output of the hypothesis\n",
    "    all_a_out.append(a_out)\n",
    "\n",
    "a_bar = np.mean(all_a_out)  # Expected value of predictions\n",
    "a_var = np.var(all_a_out)  # Variance of predictions\n",
    "print(f\"預測的期望值 a_bar:{a_bar:.4f}, 預測的方差 a_var:{a_var:.4f}\")\n",
    "\n",
    "# Compute bias and variance\n",
    "cnt = 10000\n",
    "bias = 0\n",
    "var = 0\n",
    "bias_squared = 0\n",
    "x = np.random.uniform(-1, 1, size=cnt)\n",
    "\n",
    "for i in range(cnt):\n",
    "    bias += (a_bar - np.sin(np.pi * x[i]))\n",
    "    var += a_var\n",
    "    bias_squared += (a_bar - np.sin(np.pi * x[i])) ** 2\n",
    "\n",
    "bias = bias / cnt\n",
    "var = var / cnt\n",
    "bias_squared = bias_squared / cnt\n",
    "\n",
    "error = bias_squared + var\n",
    "\n",
    "print(f'bias = {bias:.4f}, var = {var:.3f}, error = {error:.4f}')\n"
   ]
  }
 ],
 "metadata": {
  "kernelspec": {
   "display_name": "Python 3 (ipykernel)",
   "language": "python",
   "name": "python3"
  },
  "language_info": {
   "codemirror_mode": {
    "name": "ipython",
    "version": 3
   },
   "file_extension": ".py",
   "mimetype": "text/x-python",
   "name": "python",
   "nbconvert_exporter": "python",
   "pygments_lexer": "ipython3",
   "version": "3.12.5"
  }
 },
 "nbformat": 4,
 "nbformat_minor": 4
}
